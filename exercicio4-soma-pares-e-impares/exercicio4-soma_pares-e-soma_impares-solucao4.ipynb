{
 "cells": [
  {
   "cell_type": "markdown",
   "id": "77c445bf",
   "metadata": {},
   "source": [
    "# Exercício 4"
   ]
  },
  {
   "cell_type": "markdown",
   "id": "292d5865",
   "metadata": {},
   "source": [
    "Fazer uma função que recebe uma lista numérica e some os números pares e os impares nela\n",
    "\n",
    "exemplo: soma_pares_e_impares(\\[1, 2, 3, 4, 5, 6]) devolve 12 e 9"
   ]
  },
  {
   "cell_type": "markdown",
   "id": "05fa6271",
   "metadata": {},
   "source": [
    "## Solução 4"
   ]
  },
  {
   "cell_type": "code",
   "execution_count": 6,
   "id": "a35c1102",
   "metadata": {},
   "outputs": [],
   "source": [
    "def soma_pares_e_impares(lista):                \n",
    "    return sum(n for n in lista if n % 2 == 0), sum(n for n in lista if n % 2 != 0)"
   ]
  },
  {
   "cell_type": "markdown",
   "id": "01202736",
   "metadata": {},
   "source": [
    "##### Teste"
   ]
  },
  {
   "cell_type": "code",
   "execution_count": 7,
   "id": "ac2c8bb4",
   "metadata": {},
   "outputs": [],
   "source": [
    "lista = [12, 4, 26, 25, 77, 13, 99, 24, 18, 67, 91, 9, 44]"
   ]
  },
  {
   "cell_type": "code",
   "execution_count": 8,
   "id": "d036b9cd",
   "metadata": {},
   "outputs": [
    {
     "name": "stdout",
     "output_type": "stream",
     "text": [
      "(128, 381)\n"
     ]
    }
   ],
   "source": [
    "print(soma_pares_e_impares(lista))"
   ]
  }
 ],
 "metadata": {
  "kernelspec": {
   "display_name": "Python 3 (ipykernel)",
   "language": "python",
   "name": "python3"
  },
  "language_info": {
   "codemirror_mode": {
    "name": "ipython",
    "version": 3
   },
   "file_extension": ".py",
   "mimetype": "text/x-python",
   "name": "python",
   "nbconvert_exporter": "python",
   "pygments_lexer": "ipython3",
   "version": "3.10.10"
  }
 },
 "nbformat": 4,
 "nbformat_minor": 5
}
