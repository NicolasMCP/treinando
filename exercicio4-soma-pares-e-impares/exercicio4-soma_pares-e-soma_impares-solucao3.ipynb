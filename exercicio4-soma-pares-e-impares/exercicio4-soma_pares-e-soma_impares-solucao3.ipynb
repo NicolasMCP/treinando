{
 "cells": [
  {
   "cell_type": "markdown",
   "id": "2ca52eef",
   "metadata": {},
   "source": [
    "Fazer uma função que recebe uma lista numérica e some os números pares e os impares nela\n",
    "\n",
    "exemplo: soma_pares_e_impares(\\[1, 2, 3, 4, 5, 6]) devolve 12 e 9"
   ]
  },
  {
   "cell_type": "markdown",
   "id": "ce198a2d",
   "metadata": {},
   "source": [
    "## Solução 3"
   ]
  },
  {
   "cell_type": "code",
   "execution_count": 3,
   "id": "943e44d0",
   "metadata": {},
   "outputs": [],
   "source": [
    "def soma_pares_e_impares(lista):                 \n",
    "    pares = 0\n",
    "    impares = 0\n",
    "    for num in lista:\n",
    "        if num % 2 == 0:\n",
    "            pares += num\n",
    "        if num % 2 != 0:\n",
    "            impares += num\n",
    "    return pares, impares"
   ]
  },
  {
   "cell_type": "markdown",
   "id": "01202736",
   "metadata": {},
   "source": [
    "##### Teste"
   ]
  },
  {
   "cell_type": "code",
   "execution_count": 4,
   "id": "ac2c8bb4",
   "metadata": {},
   "outputs": [],
   "source": [
    "lista = [12, 4, 26, 25, 77, 13, 99, 24, 18, 67, 91, 9, 44]"
   ]
  },
  {
   "cell_type": "code",
   "execution_count": 5,
   "id": "d036b9cd",
   "metadata": {},
   "outputs": [
    {
     "name": "stdout",
     "output_type": "stream",
     "text": [
      "(128, 381)\n"
     ]
    }
   ],
   "source": [
    "print(soma_pares_e_impares(lista))"
   ]
  }
 ],
 "metadata": {
  "kernelspec": {
   "display_name": "Python 3 (ipykernel)",
   "language": "python",
   "name": "python3"
  },
  "language_info": {
   "codemirror_mode": {
    "name": "ipython",
    "version": 3
   },
   "file_extension": ".py",
   "mimetype": "text/x-python",
   "name": "python",
   "nbconvert_exporter": "python",
   "pygments_lexer": "ipython3",
   "version": "3.10.10"
  }
 },
 "nbformat": 4,
 "nbformat_minor": 5
}
