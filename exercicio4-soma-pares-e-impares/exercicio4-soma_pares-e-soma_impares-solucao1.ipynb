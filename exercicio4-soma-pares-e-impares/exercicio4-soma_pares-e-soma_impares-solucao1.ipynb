{
 "cells": [
  {
   "cell_type": "markdown",
   "id": "529f7971",
   "metadata": {},
   "source": [
    "# Exercício 4"
   ]
  },
  {
   "cell_type": "markdown",
   "id": "74cc5f6a",
   "metadata": {},
   "source": [
    "Fazer uma função que recebe uma lista numérica e some os números pares nela\n",
    "\n",
    "exemplo: soma_pares(\\[1, 2, 3, 4, 5, 6]) devolve 12\n",
    "\n",
    "Fazer uma função que recebe uma lista numérica e some os números impares nela\n",
    "\n",
    "exemplo: soma_impares(\\[1, 2, 3, 4, 5, 6]) devolve 9"
   ]
  },
  {
   "cell_type": "markdown",
   "id": "1ed3c098",
   "metadata": {},
   "source": [
    "## Solução 1"
   ]
  },
  {
   "cell_type": "code",
   "execution_count": 1,
   "id": "943e44d0",
   "metadata": {},
   "outputs": [],
   "source": [
    "def soma_pares(lista):                  # Solução 1 (pares)\n",
    "    soma = 0\n",
    "    for num in lista:\n",
    "        if num % 2 == 0:\n",
    "            soma += num\n",
    "    return soma"
   ]
  },
  {
   "cell_type": "code",
   "execution_count": 2,
   "id": "2b77d2bd",
   "metadata": {},
   "outputs": [],
   "source": [
    "def soma_impares(lista):                # Solução 1 (impares)\n",
    "    soma = 0\n",
    "    for num in lista:\n",
    "        if num % 2 != 0:\n",
    "            soma += num\n",
    "    return soma"
   ]
  },
  {
   "cell_type": "markdown",
   "id": "01202736",
   "metadata": {},
   "source": [
    "##### Teste"
   ]
  },
  {
   "cell_type": "code",
   "execution_count": 4,
   "id": "ac2c8bb4",
   "metadata": {},
   "outputs": [],
   "source": [
    "lista = [12, 4, 26, 25, 77, 13, 99, 24, 18, 67, 91, 9, 44]"
   ]
  },
  {
   "cell_type": "code",
   "execution_count": 5,
   "id": "d036b9cd",
   "metadata": {},
   "outputs": [
    {
     "name": "stdout",
     "output_type": "stream",
     "text": [
      "128\n"
     ]
    }
   ],
   "source": [
    "print(soma_pares(lista))"
   ]
  },
  {
   "cell_type": "code",
   "execution_count": 6,
   "id": "c5eb1143",
   "metadata": {},
   "outputs": [
    {
     "name": "stdout",
     "output_type": "stream",
     "text": [
      "381\n"
     ]
    }
   ],
   "source": [
    "print(soma_impares(lista))"
   ]
  }
 ],
 "metadata": {
  "kernelspec": {
   "display_name": "Python 3 (ipykernel)",
   "language": "python",
   "name": "python3"
  },
  "language_info": {
   "codemirror_mode": {
    "name": "ipython",
    "version": 3
   },
   "file_extension": ".py",
   "mimetype": "text/x-python",
   "name": "python",
   "nbconvert_exporter": "python",
   "pygments_lexer": "ipython3",
   "version": "3.10.10"
  }
 },
 "nbformat": 4,
 "nbformat_minor": 5
}
