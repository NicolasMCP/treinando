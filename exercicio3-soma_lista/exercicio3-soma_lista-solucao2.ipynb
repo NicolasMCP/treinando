{
 "cells": [
  {
   "cell_type": "markdown",
   "id": "fb029ad1",
   "metadata": {},
   "source": [
    "# Exercício 3"
   ]
  },
  {
   "cell_type": "markdown",
   "id": "83491c38",
   "metadata": {},
   "source": [
    "Crie uma função que receba uma lista com números e some todos eles\n",
    "\n",
    "exemplo: \\[ 1, 2, 3, 4] a resposta seria 10"
   ]
  },
  {
   "cell_type": "markdown",
   "id": "892bb13d",
   "metadata": {},
   "source": [
    "## Solução 2"
   ]
  },
  {
   "cell_type": "code",
   "execution_count": 1,
   "id": "8b7d4c7b",
   "metadata": {},
   "outputs": [],
   "source": [
    "from functools import reduce"
   ]
  },
  {
   "cell_type": "code",
   "execution_count": 2,
   "id": "37278798",
   "metadata": {},
   "outputs": [],
   "source": [
    "def soma_lista(lista):      # Solução 2\n",
    "    return reduce(lambda x, y: x + y, lista)"
   ]
  },
  {
   "cell_type": "markdown",
   "id": "39dc8b18",
   "metadata": {},
   "source": [
    "##### Verificação"
   ]
  },
  {
   "cell_type": "code",
   "execution_count": 3,
   "id": "3b49b87b",
   "metadata": {},
   "outputs": [],
   "source": [
    "lista = [1, 2, 3, 4]"
   ]
  },
  {
   "cell_type": "code",
   "execution_count": 4,
   "id": "0493b6e1",
   "metadata": {},
   "outputs": [
    {
     "name": "stdout",
     "output_type": "stream",
     "text": [
      "10\n"
     ]
    }
   ],
   "source": [
    "print(soma_lista(lista))"
   ]
  }
 ],
 "metadata": {
  "kernelspec": {
   "display_name": "Python 3 (ipykernel)",
   "language": "python",
   "name": "python3"
  },
  "language_info": {
   "codemirror_mode": {
    "name": "ipython",
    "version": 3
   },
   "file_extension": ".py",
   "mimetype": "text/x-python",
   "name": "python",
   "nbconvert_exporter": "python",
   "pygments_lexer": "ipython3",
   "version": "3.10.10"
  }
 },
 "nbformat": 4,
 "nbformat_minor": 5
}
