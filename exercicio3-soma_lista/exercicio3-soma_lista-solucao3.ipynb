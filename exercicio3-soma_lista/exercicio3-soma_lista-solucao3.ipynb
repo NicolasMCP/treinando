{
 "cells": [
  {
   "cell_type": "markdown",
   "id": "83491c38",
   "metadata": {},
   "source": [
    "Crie uma função que receba uma lista com números e some todos eles\n",
    "\n",
    "exemplo: \\[ 1, 2, 3, 4] a resposta seria 10"
   ]
  },
  {
   "cell_type": "markdown",
   "id": "14de6c76",
   "metadata": {},
   "source": [
    "## Solução 3"
   ]
  },
  {
   "cell_type": "code",
   "execution_count": 4,
   "id": "b95512fa",
   "metadata": {},
   "outputs": [],
   "source": [
    "def soma_lista__(lista):       \n",
    "    return sum(lista)"
   ]
  },
  {
   "cell_type": "markdown",
   "id": "a01c8eb7",
   "metadata": {},
   "source": [
    "##### Verificação"
   ]
  },
  {
   "cell_type": "code",
   "execution_count": 5,
   "id": "3b49b87b",
   "metadata": {},
   "outputs": [],
   "source": [
    "lista = [1, 2, 3, 4]"
   ]
  },
  {
   "cell_type": "code",
   "execution_count": 6,
   "id": "f64594c2",
   "metadata": {},
   "outputs": [
    {
     "name": "stdout",
     "output_type": "stream",
     "text": [
      "10\n"
     ]
    }
   ],
   "source": [
    "print(soma_lista__(lista))"
   ]
  }
 ],
 "metadata": {
  "kernelspec": {
   "display_name": "Python 3 (ipykernel)",
   "language": "python",
   "name": "python3"
  },
  "language_info": {
   "codemirror_mode": {
    "name": "ipython",
    "version": 3
   },
   "file_extension": ".py",
   "mimetype": "text/x-python",
   "name": "python",
   "nbconvert_exporter": "python",
   "pygments_lexer": "ipython3",
   "version": "3.10.10"
  }
 },
 "nbformat": 4,
 "nbformat_minor": 5
}
