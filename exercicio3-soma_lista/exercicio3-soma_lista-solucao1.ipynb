{
 "cells": [
  {
   "cell_type": "markdown",
   "id": "83491c38",
   "metadata": {},
   "source": [
    "Crie uma função que receba uma lista com números e some todos eles\n",
    "\n",
    "exemplo: \\[ 1, 2, 3, 4] a resposta seria 10"
   ]
  },
  {
   "cell_type": "markdown",
   "id": "9372d24c",
   "metadata": {},
   "source": [
    "## Solução 1"
   ]
  },
  {
   "cell_type": "code",
   "execution_count": 1,
   "id": "084e5694",
   "metadata": {},
   "outputs": [],
   "source": [
    "def soma_lista(lista):       \n",
    "    soma = 0\n",
    "    for num in lista:\n",
    "        soma += num\n",
    "    return soma"
   ]
  },
  {
   "cell_type": "markdown",
   "id": "da2968ae",
   "metadata": {},
   "source": [
    "##### Verificação"
   ]
  },
  {
   "cell_type": "code",
   "execution_count": 4,
   "id": "3b49b87b",
   "metadata": {},
   "outputs": [],
   "source": [
    "lista = [1, 2, 3, 4]"
   ]
  },
  {
   "cell_type": "code",
   "execution_count": 5,
   "id": "4b9cf3ec",
   "metadata": {},
   "outputs": [
    {
     "name": "stdout",
     "output_type": "stream",
     "text": [
      "10\n"
     ]
    }
   ],
   "source": [
    "print(soma_lista(lista))"
   ]
  }
 ],
 "metadata": {
  "kernelspec": {
   "display_name": "Python 3 (ipykernel)",
   "language": "python",
   "name": "python3"
  },
  "language_info": {
   "codemirror_mode": {
    "name": "ipython",
    "version": 3
   },
   "file_extension": ".py",
   "mimetype": "text/x-python",
   "name": "python",
   "nbconvert_exporter": "python",
   "pygments_lexer": "ipython3",
   "version": "3.10.10"
  }
 },
 "nbformat": 4,
 "nbformat_minor": 5
}
