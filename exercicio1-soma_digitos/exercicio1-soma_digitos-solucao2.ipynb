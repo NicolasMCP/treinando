{
 "cells": [
  {
   "cell_type": "markdown",
   "id": "23c30f59",
   "metadata": {},
   "source": [
    "Fazer uma função que receba um número e some os digitos,\n",
    "\n",
    "exemplo 1234 = 1 + 2 + 3 + 4 = 10"
   ]
  },
  {
   "cell_type": "markdown",
   "id": "6fd648a0",
   "metadata": {},
   "source": [
    "## Solução 2"
   ]
  },
  {
   "cell_type": "code",
   "execution_count": 1,
   "id": "1503b5b9",
   "metadata": {},
   "outputs": [],
   "source": [
    "def soma_digitos(numero):   \n",
    "    soma = 0\n",
    "    while numero > 0:\n",
    "        soma += numero % 10\n",
    "        numero //= 10\n",
    "    return soma"
   ]
  },
  {
   "cell_type": "markdown",
   "id": "5cebab31",
   "metadata": {},
   "source": [
    "##### Teste"
   ]
  },
  {
   "cell_type": "code",
   "execution_count": 2,
   "id": "07c701d7",
   "metadata": {},
   "outputs": [],
   "source": [
    "num = 7328"
   ]
  },
  {
   "cell_type": "code",
   "execution_count": 3,
   "id": "6b5cb1de",
   "metadata": {},
   "outputs": [
    {
     "name": "stdout",
     "output_type": "stream",
     "text": [
      "20\n"
     ]
    }
   ],
   "source": [
    "print(soma_digitos(num))"
   ]
  }
 ],
 "metadata": {
  "kernelspec": {
   "display_name": "Python 3 (ipykernel)",
   "language": "python",
   "name": "python3"
  },
  "language_info": {
   "codemirror_mode": {
    "name": "ipython",
    "version": 3
   },
   "file_extension": ".py",
   "mimetype": "text/x-python",
   "name": "python",
   "nbconvert_exporter": "python",
   "pygments_lexer": "ipython3",
   "version": "3.10.10"
  }
 },
 "nbformat": 4,
 "nbformat_minor": 5
}
