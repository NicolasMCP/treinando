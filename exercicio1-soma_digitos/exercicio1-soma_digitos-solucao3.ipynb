{
 "cells": [
  {
   "cell_type": "markdown",
   "id": "4a3ff4a6",
   "metadata": {},
   "source": [
    "# Exercício 1"
   ]
  },
  {
   "cell_type": "markdown",
   "id": "23c30f59",
   "metadata": {},
   "source": [
    "Fazer uma função que receba um número e some os digitos,\n",
    "\n",
    "exemplo 1234 = 1 + 2 + 3 + 4 = 10"
   ]
  },
  {
   "cell_type": "markdown",
   "id": "ac79da07",
   "metadata": {},
   "source": [
    "## Solução 3"
   ]
  },
  {
   "cell_type": "code",
   "execution_count": 1,
   "id": "0353a207",
   "metadata": {},
   "outputs": [],
   "source": [
    "def soma_digitos(numero):    \n",
    "    return sum([int(digito) for digito in str(numero)])"
   ]
  },
  {
   "cell_type": "markdown",
   "id": "a5905b77",
   "metadata": {},
   "source": [
    "##### Teste"
   ]
  },
  {
   "cell_type": "code",
   "execution_count": 2,
   "id": "dacb8a4f",
   "metadata": {},
   "outputs": [],
   "source": [
    "num = 7328"
   ]
  },
  {
   "cell_type": "code",
   "execution_count": 3,
   "id": "247f4717",
   "metadata": {},
   "outputs": [
    {
     "name": "stdout",
     "output_type": "stream",
     "text": [
      "20\n"
     ]
    }
   ],
   "source": [
    "print(soma_digitos(num))"
   ]
  }
 ],
 "metadata": {
  "kernelspec": {
   "display_name": "Python 3 (ipykernel)",
   "language": "python",
   "name": "python3"
  },
  "language_info": {
   "codemirror_mode": {
    "name": "ipython",
    "version": 3
   },
   "file_extension": ".py",
   "mimetype": "text/x-python",
   "name": "python",
   "nbconvert_exporter": "python",
   "pygments_lexer": "ipython3",
   "version": "3.10.10"
  }
 },
 "nbformat": 4,
 "nbformat_minor": 5
}
