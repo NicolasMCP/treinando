{
 "cells": [
  {
   "cell_type": "markdown",
   "id": "c2b19e17",
   "metadata": {},
   "source": [
    "# Exercício 1"
   ]
  },
  {
   "cell_type": "markdown",
   "id": "23c30f59",
   "metadata": {},
   "source": [
    "Fazer uma função que receba um número e some os digitos,\n",
    "\n",
    "exemplo 1234 = 1 + 2 + 3 + 4 = 10"
   ]
  },
  {
   "cell_type": "markdown",
   "id": "3792d5de",
   "metadata": {},
   "source": [
    "## Solução 1"
   ]
  },
  {
   "cell_type": "code",
   "execution_count": 2,
   "id": "3bd2bd2c",
   "metadata": {},
   "outputs": [],
   "source": [
    "def soma_digitos(numero):    \n",
    "    numero_str = str(numero)\n",
    "    total = 0\n",
    "    for digito in numero_str:\n",
    "        total += int(digito)\n",
    "    return total"
   ]
  },
  {
   "cell_type": "markdown",
   "id": "0b0b2955",
   "metadata": {},
   "source": [
    "##### Teste"
   ]
  },
  {
   "cell_type": "code",
   "execution_count": 4,
   "id": "56c4e6fc",
   "metadata": {},
   "outputs": [],
   "source": [
    "num = 7328"
   ]
  },
  {
   "cell_type": "code",
   "execution_count": 5,
   "id": "593b56db",
   "metadata": {},
   "outputs": [
    {
     "name": "stdout",
     "output_type": "stream",
     "text": [
      "20\n"
     ]
    }
   ],
   "source": [
    "print(soma_digitos(num))"
   ]
  }
 ],
 "metadata": {
  "kernelspec": {
   "display_name": "Python 3 (ipykernel)",
   "language": "python",
   "name": "python3"
  },
  "language_info": {
   "codemirror_mode": {
    "name": "ipython",
    "version": 3
   },
   "file_extension": ".py",
   "mimetype": "text/x-python",
   "name": "python",
   "nbconvert_exporter": "python",
   "pygments_lexer": "ipython3",
   "version": "3.10.10"
  }
 },
 "nbformat": 4,
 "nbformat_minor": 5
}
