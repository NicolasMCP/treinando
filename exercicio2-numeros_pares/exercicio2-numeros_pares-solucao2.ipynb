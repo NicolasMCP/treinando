{
 "cells": [
  {
   "cell_type": "markdown",
   "id": "0aa28ee0",
   "metadata": {},
   "source": [
    "Fazer uma função que pegue uma lista e deixe somente os números pares nela\n",
    "\n",
    "exemplo: [1, 2, 3, 4, 5, 6] devolve [2, 4, 6]"
   ]
  },
  {
   "cell_type": "markdown",
   "id": "73cd949a",
   "metadata": {},
   "source": [
    "## Solução 2"
   ]
  },
  {
   "cell_type": "code",
   "execution_count": 1,
   "id": "a05ee14b",
   "metadata": {},
   "outputs": [],
   "source": [
    "def numeros_pares(lista):       \n",
    "    resultado = []\n",
    "    for numero in lista:\n",
    "        if numero % 2 == 0:\n",
    "            resultado.append(numero)\n",
    "    return resultado"
   ]
  },
  {
   "cell_type": "markdown",
   "id": "dff6d8fc",
   "metadata": {},
   "source": [
    "##### Verificação"
   ]
  },
  {
   "cell_type": "code",
   "execution_count": 2,
   "id": "ae529be3",
   "metadata": {},
   "outputs": [],
   "source": [
    "lista = [12, 4, 26, 25, 77, 13, 99, 24, 18, 67, 91, 9, 44]"
   ]
  },
  {
   "cell_type": "code",
   "execution_count": 3,
   "id": "8802c690",
   "metadata": {},
   "outputs": [
    {
     "name": "stdout",
     "output_type": "stream",
     "text": [
      "[12, 4, 26, 24, 18, 44]\n"
     ]
    }
   ],
   "source": [
    "print(numeros_pares(lista))"
   ]
  }
 ],
 "metadata": {
  "kernelspec": {
   "display_name": "Python 3 (ipykernel)",
   "language": "python",
   "name": "python3"
  },
  "language_info": {
   "codemirror_mode": {
    "name": "ipython",
    "version": 3
   },
   "file_extension": ".py",
   "mimetype": "text/x-python",
   "name": "python",
   "nbconvert_exporter": "python",
   "pygments_lexer": "ipython3",
   "version": "3.10.10"
  }
 },
 "nbformat": 4,
 "nbformat_minor": 5
}
