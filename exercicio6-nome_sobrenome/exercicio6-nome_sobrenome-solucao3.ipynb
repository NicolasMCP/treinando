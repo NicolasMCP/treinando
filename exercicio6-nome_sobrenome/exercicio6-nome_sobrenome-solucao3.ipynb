{
 "cells": [
  {
   "cell_type": "markdown",
   "id": "673841e1",
   "metadata": {},
   "source": [
    "# Exercício 6"
   ]
  },
  {
   "cell_type": "markdown",
   "id": "85a896c8",
   "metadata": {},
   "source": [
    "Variação: Crie uma função que receba um nome comleto e devolva \"Sobrenome(s), nome(s)\" pegando primeiro o(s) sobrenome(s) (caso tenha mais de um, pegar os dois) e por último o(s) nome(s) (caso também tenha mais de um, pegar os dois)\n",
    "\n",
    "exemplo: sobrenome_nome(\"Andrea Ramona Vega Morales\")\n",
    "\n",
    "devolverá: Vega Morales, Andrea Ramona"
   ]
  },
  {
   "cell_type": "markdown",
   "id": "502ba294",
   "metadata": {},
   "source": [
    "**Nota:** Os nomes foram gerados de forma aleatória, qualquer semelhança com a vida real é mera coincidência."
   ]
  },
  {
   "cell_type": "markdown",
   "id": "c995b1ff",
   "metadata": {},
   "source": [
    "## Solução 3"
   ]
  },
  {
   "cell_type": "code",
   "execution_count": 20,
   "id": "c447a01e",
   "metadata": {},
   "outputs": [],
   "source": [
    "def sobrenome_nome(nome_comleto):\n",
    "    palavras = nome_comleto.split(\" \")\n",
    "    \n",
    "    # verificar se tem dois sobrenomes\n",
    "    if len(palavras) > 2:\n",
    "        sobrenome = palavras[-2] + \" \" + palavras[-1]\n",
    "    elif len(palavras) == 2:\n",
    "        sobrenome = palavras[-1]\n",
    "    else:\n",
    "        sobrenome = \"Sem Sobrenome\"\n",
    "        \n",
    "    # verifica se o nome é duplo\n",
    "    if len(palavras) > 3:\n",
    "        nome = palavras[0] + \" \" + palavras[1]\n",
    "    else:\n",
    "        nome = palavras[0]\n",
    "        \n",
    "    return sobrenome + \", \" + nome"
   ]
  },
  {
   "cell_type": "markdown",
   "id": "75b273c6",
   "metadata": {},
   "source": [
    "##### Teste"
   ]
  },
  {
   "cell_type": "code",
   "execution_count": 21,
   "id": "46acc92b",
   "metadata": {},
   "outputs": [],
   "source": [
    "nome_completo = \"Andrea Ramona Vega Morales\""
   ]
  },
  {
   "cell_type": "code",
   "execution_count": 22,
   "id": "47eadffc",
   "metadata": {},
   "outputs": [
    {
     "name": "stdout",
     "output_type": "stream",
     "text": [
      "Vega Morales, Andrea Ramona\n"
     ]
    }
   ],
   "source": [
    "print(sobrenome_nome(nome_completo))"
   ]
  }
 ],
 "metadata": {
  "kernelspec": {
   "display_name": "Python 3 (ipykernel)",
   "language": "python",
   "name": "python3"
  },
  "language_info": {
   "codemirror_mode": {
    "name": "ipython",
    "version": 3
   },
   "file_extension": ".py",
   "mimetype": "text/x-python",
   "name": "python",
   "nbconvert_exporter": "python",
   "pygments_lexer": "ipython3",
   "version": "3.10.10"
  }
 },
 "nbformat": 4,
 "nbformat_minor": 5
}
