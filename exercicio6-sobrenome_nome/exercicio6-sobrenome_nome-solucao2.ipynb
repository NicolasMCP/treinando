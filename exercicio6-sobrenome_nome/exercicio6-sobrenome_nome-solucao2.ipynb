{
 "cells": [
  {
   "cell_type": "markdown",
   "id": "68ede815",
   "metadata": {},
   "source": [
    "# Exercício 6"
   ]
  },
  {
   "cell_type": "markdown",
   "id": "2354323c",
   "metadata": {},
   "source": [
    "Crie uma função que receba um nome comleto e devolva \"Sobrenome, nome\" pegando primeiro o sobrenome) (caso tenha mais de um sobrenome, pegar o último) e depois da vírgula o nome (caso também tenha mais de um, pegar o primeiro nome)\n",
    "\n",
    "exemplo: sobrenome_nome(\"Andrea Ramona Vega Morales\")\n",
    "\n",
    "devolverá: Morales, Andrea"
   ]
  },
  {
   "cell_type": "markdown",
   "id": "502ba294",
   "metadata": {},
   "source": [
    "**Nota:** Os nomes foram gerados de forma aleatória, qualquer semelhança com a vida real é mera coincidência."
   ]
  },
  {
   "cell_type": "markdown",
   "id": "10d258e0",
   "metadata": {},
   "source": [
    "## Solução 2"
   ]
  },
  {
   "cell_type": "code",
   "execution_count": 1,
   "id": "c447a01e",
   "metadata": {},
   "outputs": [],
   "source": [
    "def sobrenome_nome(string):\n",
    "    return string.split()[-1] + \", \" + string.split()[0] "
   ]
  },
  {
   "cell_type": "markdown",
   "id": "75b273c6",
   "metadata": {},
   "source": [
    "##### Teste"
   ]
  },
  {
   "cell_type": "code",
   "execution_count": 2,
   "id": "46acc92b",
   "metadata": {},
   "outputs": [],
   "source": [
    "nome_completo = \"Andrea Ramona Vega Morales\""
   ]
  },
  {
   "cell_type": "code",
   "execution_count": 3,
   "id": "47eadffc",
   "metadata": {},
   "outputs": [
    {
     "name": "stdout",
     "output_type": "stream",
     "text": [
      "Morales, Andrea\n"
     ]
    }
   ],
   "source": [
    "print(sobrenome_nome(nome_completo))"
   ]
  }
 ],
 "metadata": {
  "kernelspec": {
   "display_name": "Python 3 (ipykernel)",
   "language": "python",
   "name": "python3"
  },
  "language_info": {
   "codemirror_mode": {
    "name": "ipython",
    "version": 3
   },
   "file_extension": ".py",
   "mimetype": "text/x-python",
   "name": "python",
   "nbconvert_exporter": "python",
   "pygments_lexer": "ipython3",
   "version": "3.10.10"
  }
 },
 "nbformat": 4,
 "nbformat_minor": 5
}
