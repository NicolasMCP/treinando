{
 "cells": [
  {
   "cell_type": "markdown",
   "id": "896a85c4",
   "metadata": {},
   "source": [
    "Receber uma lista númerica, devolva uma lista em ordem inversa\n",
    "\n",
    "exemplo: \\[4, 8, 2, 3] resposta \\[3, 2, 8, 4]"
   ]
  },
  {
   "cell_type": "markdown",
   "id": "902696b6",
   "metadata": {},
   "source": [
    "## Solução 3"
   ]
  },
  {
   "cell_type": "code",
   "execution_count": 4,
   "id": "e6809ef2",
   "metadata": {},
   "outputs": [],
   "source": [
    "def invertir__(lista):      \n",
    "    return lista.reverse()"
   ]
  },
  {
   "cell_type": "markdown",
   "id": "d02c2350",
   "metadata": {},
   "source": [
    "##### Teste"
   ]
  },
  {
   "cell_type": "code",
   "execution_count": 5,
   "id": "5cd7539d",
   "metadata": {},
   "outputs": [],
   "source": [
    "lista = [4, 8, 2, 3]"
   ]
  },
  {
   "cell_type": "code",
   "execution_count": 7,
   "id": "ce5e4aa1",
   "metadata": {},
   "outputs": [
    {
     "name": "stdout",
     "output_type": "stream",
     "text": [
      "[4, 8, 2, 3]\n"
     ]
    }
   ],
   "source": [
    "invertir__(lista)\n",
    "print(lista)"
   ]
  },
  {
   "cell_type": "code",
   "execution_count": 8,
   "id": "09bd0ccb",
   "metadata": {},
   "outputs": [
    {
     "name": "stdout",
     "output_type": "stream",
     "text": [
      "[25, 24, 23, 22, 21, 20, 19, 18, 17, 16, 15, 14, 13, 12, 11, 10, 9, 8, 7, 6, 5, 4, 3, 2, 1]\n"
     ]
    }
   ],
   "source": [
    "lista = list(range(1, 25+1))\n",
    "invertir__(lista)\n",
    "print(lista)"
   ]
  }
 ],
 "metadata": {
  "kernelspec": {
   "display_name": "Python 3 (ipykernel)",
   "language": "python",
   "name": "python3"
  },
  "language_info": {
   "codemirror_mode": {
    "name": "ipython",
    "version": 3
   },
   "file_extension": ".py",
   "mimetype": "text/x-python",
   "name": "python",
   "nbconvert_exporter": "python",
   "pygments_lexer": "ipython3",
   "version": "3.10.10"
  }
 },
 "nbformat": 4,
 "nbformat_minor": 5
}
