{
 "cells": [
  {
   "cell_type": "markdown",
   "id": "2889041d",
   "metadata": {},
   "source": [
    "# Exercício 5"
   ]
  },
  {
   "cell_type": "markdown",
   "id": "2c40a2ad",
   "metadata": {},
   "source": [
    "Receber uma lista númerica, devolva uma lista em ordem inversa\n",
    "\n",
    "exemplo: \\[4, 8, 2, 3] resposta \\[3, 2, 8, 4]"
   ]
  },
  {
   "cell_type": "markdown",
   "id": "2bbbeafe",
   "metadata": {},
   "source": [
    "## Solução 1"
   ]
  },
  {
   "cell_type": "code",
   "execution_count": 1,
   "id": "5221887e",
   "metadata": {},
   "outputs": [],
   "source": [
    "def invertir(lista):\n",
    "    resposta = []\n",
    "    for i in range(-1, -1-len(lista), -1):\n",
    "        resposta.append(lista[i])\n",
    "    return resposta"
   ]
  },
  {
   "cell_type": "markdown",
   "id": "4ae97a9e",
   "metadata": {},
   "source": [
    "##### Teste"
   ]
  },
  {
   "cell_type": "code",
   "execution_count": 2,
   "id": "b4194ad5",
   "metadata": {},
   "outputs": [],
   "source": [
    "lista = [4, 8, 2, 3]"
   ]
  },
  {
   "cell_type": "code",
   "execution_count": 3,
   "id": "eb1a232d",
   "metadata": {},
   "outputs": [
    {
     "name": "stdout",
     "output_type": "stream",
     "text": [
      "[3, 2, 8, 4]\n"
     ]
    }
   ],
   "source": [
    "print(invertir(lista))"
   ]
  },
  {
   "cell_type": "code",
   "execution_count": 4,
   "id": "3c8e9602",
   "metadata": {},
   "outputs": [
    {
     "name": "stdout",
     "output_type": "stream",
     "text": [
      "[25, 24, 23, 22, 21, 20, 19, 18, 17, 16, 15, 14, 13, 12, 11, 10, 9, 8, 7, 6, 5, 4, 3, 2, 1]\n"
     ]
    }
   ],
   "source": [
    "lista = list(range(1, 25+1))\n",
    "print(invertir(lista))"
   ]
  }
 ],
 "metadata": {
  "kernelspec": {
   "display_name": "Python 3 (ipykernel)",
   "language": "python",
   "name": "python3"
  },
  "language_info": {
   "codemirror_mode": {
    "name": "ipython",
    "version": 3
   },
   "file_extension": ".py",
   "mimetype": "text/x-python",
   "name": "python",
   "nbconvert_exporter": "python",
   "pygments_lexer": "ipython3",
   "version": "3.10.10"
  }
 },
 "nbformat": 4,
 "nbformat_minor": 5
}
