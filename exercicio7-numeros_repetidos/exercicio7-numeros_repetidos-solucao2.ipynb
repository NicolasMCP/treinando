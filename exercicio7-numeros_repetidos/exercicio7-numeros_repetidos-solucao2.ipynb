{
 "cells": [
  {
   "cell_type": "markdown",
   "id": "29420800",
   "metadata": {},
   "source": [
    "# Exercício 7"
   ]
  },
  {
   "cell_type": "markdown",
   "id": "fcecca81",
   "metadata": {},
   "source": [
    "Crie uma função que receba uma lista numérica e devolva apenas os números repetidos (se ouver)\n",
    "\n",
    "exemplo: \\[1, 2, 3, 4, 2, 5, 6, 6, 6, 6, 6, 6, 6, 6, 6, 6, 4\\] retorna \\[2, 4, 6\\]\n",
    "\n",
    "exemplo: \\[1, 2, 3, 4, 5, 6\\] retorna \\[\\]"
   ]
  },
  {
   "attachments": {},
   "cell_type": "markdown",
   "id": "50a470ce",
   "metadata": {},
   "source": [
    "## Solução 2"
   ]
  },
  {
   "cell_type": "code",
   "execution_count": 1,
   "id": "3ee645ef",
   "metadata": {},
   "outputs": [],
   "source": [
    "def numeros_repetidos(lista):\n",
    "    repetidos = []\n",
    "    for numero in lista:\n",
    "        if lista.count(numero) > 1 and numero not in repetidos:\n",
    "            repetidos.append(numero)\n",
    "    return repetidos"
   ]
  },
  {
   "attachments": {},
   "cell_type": "markdown",
   "id": "2c017ab1",
   "metadata": {},
   "source": [
    "##### Teste"
   ]
  },
  {
   "cell_type": "code",
   "execution_count": 2,
   "id": "f7d4132d",
   "metadata": {},
   "outputs": [],
   "source": [
    "lista = [1, 2, 3, 4, 2, 5, 6, 6, 6, 6, 6, 6, 6, 6, 6, 6, 4]"
   ]
  },
  {
   "cell_type": "code",
   "execution_count": 3,
   "id": "ab3554cb",
   "metadata": {},
   "outputs": [
    {
     "name": "stdout",
     "output_type": "stream",
     "text": [
      "[2, 4, 6]\n"
     ]
    }
   ],
   "source": [
    "print(numeros_repetidos(lista))"
   ]
  }
 ],
 "metadata": {
  "kernelspec": {
   "display_name": "Python 3 (ipykernel)",
   "language": "python",
   "name": "python3"
  },
  "language_info": {
   "codemirror_mode": {
    "name": "ipython",
    "version": 3
   },
   "file_extension": ".py",
   "mimetype": "text/x-python",
   "name": "python",
   "nbconvert_exporter": "python",
   "pygments_lexer": "ipython3",
   "version": "3.10.10"
  }
 },
 "nbformat": 4,
 "nbformat_minor": 5
}
