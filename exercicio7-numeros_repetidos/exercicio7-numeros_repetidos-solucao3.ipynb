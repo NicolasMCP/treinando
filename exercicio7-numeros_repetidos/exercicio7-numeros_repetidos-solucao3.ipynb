{
 "cells": [
  {
   "attachments": {},
   "cell_type": "markdown",
   "metadata": {},
   "source": [
    "# Exercício 7"
   ]
  },
  {
   "attachments": {},
   "cell_type": "markdown",
   "metadata": {},
   "source": [
    "Crie uma função que receba uma lista numérica e devolva apenas os números repetidos (se ouver)\n",
    "\n",
    "exemplo: \\[1, 2, 3, 4, 2, 5, 6, 6, 6, 6, 6, 6, 6, 6, 6, 6, 4\\] retorna \\[2, 4, 6\\]\n",
    "\n",
    "exemplo: \\[1, 2, 3, 4, 5, 6\\] retorna \\[\\]"
   ]
  },
  {
   "attachments": {},
   "cell_type": "markdown",
   "metadata": {},
   "source": [
    "## Solução 3"
   ]
  },
  {
   "cell_type": "code",
   "execution_count": 1,
   "metadata": {},
   "outputs": [],
   "source": [
    "def numeros_repetidos(lista):\n",
    "    return list(set(n for n in lista if lista.count(n) > 1))"
   ]
  },
  {
   "cell_type": "code",
   "execution_count": 2,
   "metadata": {},
   "outputs": [],
   "source": [
    "lista = [1, 2, 3, 4, 2, 5, 6, 6, 6, 6, 6, 6, 6, 6, 6, 6, 4]"
   ]
  },
  {
   "cell_type": "code",
   "execution_count": 3,
   "metadata": {},
   "outputs": [
    {
     "name": "stdout",
     "output_type": "stream",
     "text": [
      "[2, 4, 6]\n"
     ]
    }
   ],
   "source": [
    "print(numeros_repetidos(lista))"
   ]
  }
 ],
 "metadata": {
  "kernelspec": {
   "display_name": "Python 3",
   "language": "python",
   "name": "python3"
  },
  "language_info": {
   "codemirror_mode": {
    "name": "ipython",
    "version": 3
   },
   "file_extension": ".py",
   "mimetype": "text/x-python",
   "name": "python",
   "nbconvert_exporter": "python",
   "pygments_lexer": "ipython3",
   "version": "3.10.10"
  },
  "orig_nbformat": 4
 },
 "nbformat": 4,
 "nbformat_minor": 2
}
